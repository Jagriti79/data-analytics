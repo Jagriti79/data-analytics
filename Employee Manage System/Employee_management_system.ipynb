{
  "cells": [
    {
      "cell_type": "markdown",
      "metadata": {
        "id": "L3T6YQTniZXD"
      },
      "source": [
        "Employee Management System (EMS)"
      ]
    },
    {
      "cell_type": "code",
      "execution_count": null,
      "metadata": {
        "colab": {
          "base_uri": "https://localhost:8080/"
        },
        "id": "ra2pnC3s1ZpO",
        "outputId": "304019eb-c2b8-4537-caa9-da7f51d504d8"
      },
      "outputs": [
        {
          "name": "stdout",
          "output_type": "stream",
          "text": [
            "Requirement already satisfied: tabulate in /usr/local/lib/python3.11/dist-packages (0.9.0)\n"
          ]
        }
      ],
      "source": [
        "pip install tabulate"
      ]
    },
    {
      "cell_type": "code",
      "execution_count": null,
      "metadata": {
        "colab": {
          "background_save": true,
          "base_uri": "https://localhost:8080/"
        },
        "id": "-odleKsykta6",
        "outputId": "9eea215a-12ce-4ca3-e28e-06544f86a71a"
      },
      "outputs": [
        {
          "name": "stdout",
          "output_type": "stream",
          "text": [
            "1. Add Employee\n",
            "2. View All Employee\n",
            "3. Search Employee\n",
            "4. Exit\n",
            "  ID  Name       Age  Department      Salary\n",
            "----  -------  -----  ------------  --------\n",
            " 101  Jagriti     22  IT               50000\n",
            " 102  VK          23  HR               60000\n",
            "1. Add Employee\n",
            "2. View All Employee\n",
            "3. Search Employee\n",
            "4. Exit\n",
            "Employee was successfully added\n",
            "1. Add Employee\n",
            "2. View All Employee\n",
            "3. Search Employee\n",
            "4. Exit\n",
            "Employee not found\n",
            "{'name': 'bond', 'age': 34, 'department': 'FD', 'salary': 3456789}\n",
            "{'name': 'VK', 'age': 23, 'department': 'HR', 'salary': 60000}\n"
          ]
        }
      ],
      "source": [
        "\n",
        "from tabulate import tabulate\n",
        "Employee = {\n",
        "    101: {\"name\": \"Jagriti\", \"age\": 22,\"department\": \"IT\", \"salary\": 50000},\n",
        "    102: {\"name\": \"VK\", \"age\": 23,\"department\": \"HR\", \"salary\": 60000}\n",
        "    }\n",
        "def main_menu():\n",
        "  print(\"1. Add Employee\")\n",
        "  print(\"2. View All Employee\")\n",
        "  print(\"3. Search Employee\")\n",
        "  print(\"4. Exit\")\n",
        "\n",
        "def add_Employee():\n",
        "  while True:\n",
        "\n",
        "      try:\n",
        "        id = int(input(\"Enter Employee ID: \"))\n",
        "\n",
        "        if id in Employee:\n",
        "            print(\"Employee already exists\")\n",
        "        else:\n",
        "            print(\"Employee was successfully added\")\n",
        "        break\n",
        "      except:\n",
        "        print(\"Invalid! Enter again\")\n",
        "\n",
        "  name = input(\"Enter Employee Name: \")\n",
        "  age = int(input(\"Enter Employee Age: \"))\n",
        "  department = input(\"Enter Employee Department: \")\n",
        "  salary = int(input(\"Enter Employee Salary: \"))\n",
        "  Employee[id] = {\"name\": name, \"age\": age,\"department\": department, \"salary\": salary}\n",
        "\n",
        "def view_Employee():\n",
        "    Employee_table = [[emp_id] + list(details.values()) for emp_id, details in Employee.items()]\n",
        "    print(tabulate(Employee_table, headers=[\"ID\", \"Name\", \"Age\", \"Department\", \"Salary\"]))\n",
        "\n",
        "def search_Employee():\n",
        "    while True:\n",
        "       try:\n",
        "        id = int(input(\"Enter Employee ID:\"))\n",
        "        if id in Employee:\n",
        "            print(Employee[id])\n",
        "        else:\n",
        "            print(\"Employee not found\")\n",
        "       except:\n",
        "        print(\"Invalid! Enter again\")\n",
        "\n",
        "while True:\n",
        "    main_menu()\n",
        "    option = int(input(\"Enter option:\"))\n",
        "    if option == 1:\n",
        "      add_Employee()\n",
        "    elif option == 2:\n",
        "      view_Employee()\n",
        "    elif option == 3:\n",
        "      search_Employee()\n",
        "    elif option == 4:\n",
        "      print(\"Thank you\")\n",
        "      break\n",
        "if __name__ == \"__main__\":\n",
        "    main_menu()\n",
        "\n",
        "\n",
        "\n",
        "\n",
        "\n",
        "\n",
        "\n",
        "\n",
        "\n",
        "\n",
        "\n",
        "\n",
        "\n",
        "\n"
      ]
    }
  ],
  "metadata": {
    "colab": {
      "provenance": []
    },
    "kernelspec": {
      "display_name": "Python 3",
      "name": "python3"
    },
    "language_info": {
      "name": "python"
    }
  },
  "nbformat": 4,
  "nbformat_minor": 0
}